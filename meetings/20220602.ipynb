{
 "cells": [
  {
   "cell_type": "markdown",
   "id": "bca9a42f",
   "metadata": {},
   "source": [
    "# Ocean Modelling Meeting"
   ]
  },
  {
   "cell_type": "markdown",
   "id": "a3fe1b83",
   "metadata": {},
   "source": [
    " 2 June 2022"
   ]
  },
  {
   "cell_type": "markdown",
   "id": "e098fbb3",
   "metadata": {},
   "source": [
    "## Current Status"
   ]
  },
  {
   "cell_type": "markdown",
   "id": "dc2c384d",
   "metadata": {},
   "source": [
    "### StormEvents: \n",
    "\n",
    "* Done\n",
    "\n",
    "    - xxx\n",
    "    \n",
    "\n",
    "* Pending ...  \n",
    "\n",
    "    - xxx\n",
    "    \n",
    "    "
   ]
  },
  {
   "cell_type": "markdown",
   "id": "8f88850d",
   "metadata": {},
   "source": [
    "### Searvey : \n",
    "\n",
    "* Done\n",
    "\n",
    "    - Zach has transfered the get_data function for COOPS from `StormEvents` to `Searvey` with a `PR`.\n",
    "    - Docs are setup based on another `PR` from Zach\n",
    "    - The `get_data` (webAPI) function from `IOC` is done by Panos and incorporated. \n",
    "    \n",
    "\n",
    "* Pending ...  \n",
    "\n",
    "    - Installation with `conda`.\n",
    "    - Examples including demonstrating the link between `StormEvents` and `Searvey`.\n",
    "    - `Binder`.\n",
    "    \n",
    "    "
   ]
  },
  {
   "cell_type": "markdown",
   "id": "4e344133",
   "metadata": {},
   "source": [
    "### Seamesh: \n",
    "\n",
    "* Done\n",
    "    \n",
    "\n",
    "* Pending ...\n",
    "\n",
    "    - transfer of mesh module from `pyPoseidon`. "
   ]
  },
  {
   "cell_type": "markdown",
   "id": "7c963e38",
   "metadata": {},
   "source": [
    "### Seaset: \n",
    "\n",
    "* Done\n",
    "\n",
    "    - Notebooks with tests and comparison of multiple providers.\n",
    "    \n",
    "\n",
    "* Pending ...\n",
    "\n",
    "    - Define full set of Metadata https://github.com/oceanmodeling/seaset/issues/1.\n",
    "    - Optimizations\n",
    "    - Parcing/Merging code"
   ]
  },
  {
   "cell_type": "markdown",
   "id": "f18d5993",
   "metadata": {},
   "source": [
    "### Seamulate: \n",
    "\n",
    "* Done\n",
    "\n",
    "    \n",
    "\n",
    "* Pending ...\n",
    "\n",
    "    - transfer of code from `pyPoseidon`. "
   ]
  },
  {
   "cell_type": "markdown",
   "id": "2e8b3f18",
   "metadata": {},
   "source": [
    "### Seapost: \n",
    "\n",
    "* Done\n",
    "\n",
    "    \n",
    "\n",
    "* Pending ...\n",
    "\n",
    "    - transfer of code from `Thalassa`. "
   ]
  },
  {
   "cell_type": "markdown",
   "id": "cc26d6fd",
   "metadata": {},
   "source": [
    "### CoastalApp: \n",
    "\n",
    "* Done\n",
    "\n",
    "    - xxx\n",
    "\n",
    "\n",
    "* Pending ...\n",
    "\n",
    "    - xxx"
   ]
  },
  {
   "cell_type": "markdown",
   "id": "a5928e31",
   "metadata": {},
   "source": [
    "## Issues"
   ]
  },
  {
   "cell_type": "markdown",
   "id": "ffd10594",
   "metadata": {},
   "source": [
    "* Define the neccessary components for a modular workflow : https://github.com/oceanmodeling/Management/issues/7\n",
    "    \n",
    "* Define PI per Thematic area.\n",
    "    \n",
    "    - Report, manage corresponding repos\n",
    "\n"
   ]
  },
  {
   "cell_type": "markdown",
   "id": "ad7c92e7",
   "metadata": {},
   "source": [
    "## Outlook"
   ]
  },
  {
   "cell_type": "markdown",
   "id": "c58547fa",
   "metadata": {},
   "source": [
    "* Develop a presentation for searvey when functionality is available highlighting the link to StormEvents and numerical model verification\n",
    "\n",
    "* Develop a presentation for the 3D capabilities of SCHISM (coastal inundation/flooding and global model)\n",
    "\n",
    "* Expand collaboration/ Join initiatives?"
   ]
  },
  {
   "cell_type": "markdown",
   "id": "5e20ec7a",
   "metadata": {},
   "source": [
    "## Relevant Initiatives"
   ]
  },
  {
   "cell_type": "markdown",
   "id": "95490e11",
   "metadata": {},
   "source": [
    "* Bathymetry\n",
    "\n",
    "https://seabed2030.org"
   ]
  },
  {
   "cell_type": "markdown",
   "id": "5ea25e68",
   "metadata": {},
   "source": [
    "* UN Ocean Decade\n",
    "\n",
    "https://www.oceandecade.org"
   ]
  },
  {
   "cell_type": "markdown",
   "id": "384615c7",
   "metadata": {},
   "source": [
    "* Ocean Predict\n",
    "\n",
    "https://oceanpredict.org"
   ]
  },
  {
   "cell_type": "markdown",
   "id": "d8455097",
   "metadata": {},
   "source": [
    "* Destination Earth\n",
    "\n",
    "https://digital-strategy.ec.europa.eu/en/policies/destination-earth"
   ]
  },
  {
   "cell_type": "markdown",
   "id": "e0cd075b",
   "metadata": {},
   "source": [
    "* Global Ocean Observing System\n",
    "\n",
    "https://public.wmo.int/en/programmes/global-ocean-observing-system\n",
    "    "
   ]
  }
 ],
 "metadata": {
  "kernelspec": {
   "display_name": "Python 3 (ipykernel)",
   "language": "python",
   "name": "python3"
  },
  "language_info": {
   "codemirror_mode": {
    "name": "ipython",
    "version": 3
   },
   "file_extension": ".py",
   "mimetype": "text/x-python",
   "name": "python",
   "nbconvert_exporter": "python",
   "pygments_lexer": "ipython3",
   "version": "3.8.12"
  }
 },
 "nbformat": 4,
 "nbformat_minor": 5
}
